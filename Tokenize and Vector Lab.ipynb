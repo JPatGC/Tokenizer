{
 "cells": [
  {
   "cell_type": "code",
   "execution_count": 1,
   "id": "828535b3",
   "metadata": {},
   "outputs": [
    {
     "name": "stderr",
     "output_type": "stream",
     "text": [
      "/Users/idogmv2020/anaconda3/lib/python3.10/site-packages/tqdm/auto.py:22: TqdmWarning: IProgress not found. Please update jupyter and ipywidgets. See https://ipywidgets.readthedocs.io/en/stable/user_install.html\n",
      "  from .autonotebook import tqdm as notebook_tqdm\n"
     ]
    }
   ],
   "source": [
    "import nltk\n",
    "import timeit\n",
    "\n",
    "from datasets import load_dataset"
   ]
  },
  {
   "cell_type": "code",
   "execution_count": 2,
   "id": "d1fc83b3",
   "metadata": {},
   "outputs": [
    {
     "name": "stdout",
     "output_type": "stream",
     "text": [
      "Collecting package metadata (current_repodata.json): done\n",
      "Solving environment: | \n",
      "The environment is inconsistent, please check the package plan carefully\n",
      "The following packages are causing the inconsistency:\n",
      "\n",
      "  - huggingface/noarch::datasets==2.13.2=py_0\n",
      "  - defaults/osx-arm64::transformers==4.24.0=py310hca03da5_0\n",
      "done\n",
      "\n",
      "## Package Plan ##\n",
      "\n",
      "  environment location: /Users/idogmv2020/anaconda3\n",
      "\n",
      "  added / updated specs:\n",
      "    - ipywidgets\n",
      "\n",
      "\n",
      "The following packages will be downloaded:\n",
      "\n",
      "    package                    |            build\n",
      "    ---------------------------|-----------------\n",
      "    huggingface_hub-0.17.3     |     pyhd8ed1ab_0         190 KB  conda-forge\n",
      "    ipywidgets-8.0.4           |     pyhd8ed1ab_0         109 KB  conda-forge\n",
      "    jupyterlab_widgets-3.0.9   |     pyhd8ed1ab_0         182 KB  conda-forge\n",
      "    widgetsnbextension-4.0.9   |     pyhd8ed1ab_0         865 KB  conda-forge\n",
      "    ------------------------------------------------------------\n",
      "                                           Total:         1.3 MB\n",
      "\n",
      "The following NEW packages will be INSTALLED:\n",
      "\n",
      "  huggingface_hub    conda-forge/noarch::huggingface_hub-0.17.3-pyhd8ed1ab_0 \n",
      "  ipywidgets         conda-forge/noarch::ipywidgets-8.0.4-pyhd8ed1ab_0 \n",
      "  jupyterlab_widgets conda-forge/noarch::jupyterlab_widgets-3.0.9-pyhd8ed1ab_0 \n",
      "  widgetsnbextension conda-forge/noarch::widgetsnbextension-4.0.9-pyhd8ed1ab_0 \n",
      "\n",
      "The following packages will be SUPERSEDED by a higher-priority channel:\n",
      "\n",
      "  ca-certificates    pkgs/main::ca-certificates-2023.08.22~ --> conda-forge::ca-certificates-2023.7.22-hf0a4a13_0 \n",
      "  certifi            pkgs/main/osx-arm64::certifi-2023.7.2~ --> conda-forge/noarch::certifi-2023.7.22-pyhd8ed1ab_0 \n",
      "  openssl              pkgs/main::openssl-1.1.1w-h1a28f6b_0 --> conda-forge::openssl-1.1.1w-h53f4e23_0 \n",
      "\n",
      "\n",
      "\n",
      "Downloading and Extracting Packages:\n",
      "ipywidgets-8.0.4     | 109 KB    |                                       |   0% \n",
      "jupyterlab_widgets-3 | 182 KB    |                                       |   0% \u001b[A\n",
      "\n",
      "huggingface_hub-0.17 | 190 KB    |                                       |   0% \u001b[A\u001b[A\n",
      "\n",
      "\n",
      "widgetsnbextension-4 | 865 KB    |                                       |   0% \u001b[A\u001b[A\u001b[A\n",
      "\n",
      "\n",
      "widgetsnbextension-4 | 865 KB    | 6                                     |   2% \u001b[A\u001b[A\u001b[A\n",
      "\n",
      "huggingface_hub-0.17 | 190 KB    | ###1                                  |   8% \u001b[A\u001b[A\n",
      "ipywidgets-8.0.4     | 109 KB    | ##################################### | 100% \u001b[A\n",
      "\n",
      "huggingface_hub-0.17 | 190 KB    | ########################9             |  67% \u001b[A\u001b[A\n",
      "\n",
      "\n",
      "widgetsnbextension-4 | 865 KB    | #####4                                |  15% \u001b[A\u001b[A\u001b[A\n",
      "jupyterlab_widgets-3 | 182 KB    | #########################9            |  70% \u001b[A\n",
      "jupyterlab_widgets-3 | 182 KB    | ##################################### | 100% \u001b[A\n",
      "\n",
      "huggingface_hub-0.17 | 190 KB    | ##################################### | 100% \u001b[A\u001b[A\n",
      "\n",
      "\n",
      "                                                                                \u001b[A\u001b[A\u001b[A\n",
      "                                                                                \u001b[A\n",
      "\n",
      "                                                                                \u001b[A\u001b[A\n",
      "\n",
      "\n",
      "                                                                                \u001b[A\u001b[A\u001b[A\n",
      "Preparing transaction: done\n",
      "Verifying transaction: done\n",
      "Executing transaction: done\n",
      "\n",
      "Note: you may need to restart the kernel to use updated packages.\n"
     ]
    }
   ],
   "source": [
    "conda install -c conda-forge ipywidgets"
   ]
  },
  {
   "cell_type": "code",
   "execution_count": 1,
   "id": "e88b397d",
   "metadata": {},
   "outputs": [
    {
     "name": "stdout",
     "output_type": "stream",
     "text": [
      "Collecting package metadata (current_repodata.json): done\n",
      "Solving environment: done\n",
      "\n",
      "# All requested packages already installed.\n",
      "\n",
      "\n",
      "Note: you may need to restart the kernel to use updated packages.\n"
     ]
    }
   ],
   "source": [
    "conda install -c conda-forge ipywidgets"
   ]
  },
  {
   "cell_type": "code",
   "execution_count": 2,
   "id": "c5e6f601",
   "metadata": {},
   "outputs": [],
   "source": [
    "import nltk\n",
    "import timeit\n",
    "\n",
    "from datasets import load_dataset"
   ]
  },
  {
   "cell_type": "code",
   "execution_count": 3,
   "id": "6113738f",
   "metadata": {},
   "outputs": [
    {
     "data": {
      "application/vnd.jupyter.widget-view+json": {
       "model_id": "bad6a9eb0626433396ccf59a509fc806",
       "version_major": 2,
       "version_minor": 0
      },
      "text/plain": [
       "Downloading builder script:   0%|          | 0.00/8.91k [00:00<?, ?B/s]"
      ]
     },
     "metadata": {},
     "output_type": "display_data"
    },
    {
     "data": {
      "application/vnd.jupyter.widget-view+json": {
       "model_id": "d5d9ca6c794445d39ee7da1cf942dd6a",
       "version_major": 2,
       "version_minor": 0
      },
      "text/plain": [
       "Downloading readme:   0%|          | 0.00/8.02k [00:00<?, ?B/s]"
      ]
     },
     "metadata": {},
     "output_type": "display_data"
    },
    {
     "name": "stdout",
     "output_type": "stream",
     "text": [
      "Downloading and preparing dataset american_stories/subset_years to /Users/idogmv2020/.cache/huggingface/datasets/dell-research-harvard___american_stories/subset_years-eecb50c0f4d23bc0/0.1.0/75a916c5166c4f1fe51a57e0f5074cc72e19157c2bb064a2dc3e6362e19892fb...\n",
      "Only taking a subset of years. Change name to 'all_years' to use all years in the dataset.\n",
      "{'1929': 'https://huggingface.co/datasets/dell-research-harvard/AmericanStories/resolve/main/faro_1929.tar.gz'}\n"
     ]
    },
    {
     "data": {
      "application/vnd.jupyter.widget-view+json": {
       "model_id": "90aecfb1117d44e0a0b47e91b241a0cc",
       "version_major": 2,
       "version_minor": 0
      },
      "text/plain": [
       "Downloading data files:   0%|          | 0/1 [00:00<?, ?it/s]"
      ]
     },
     "metadata": {},
     "output_type": "display_data"
    },
    {
     "data": {
      "application/vnd.jupyter.widget-view+json": {
       "model_id": "f459ef37b40f40bcb9cbc816ad1ab784",
       "version_major": 2,
       "version_minor": 0
      },
      "text/plain": [
       "Downloading data:   0%|          | 0.00/394M [00:00<?, ?B/s]"
      ]
     },
     "metadata": {},
     "output_type": "display_data"
    },
    {
     "data": {
      "application/vnd.jupyter.widget-view+json": {
       "model_id": "577b1289c2d14701be7166e6ad45b54c",
       "version_major": 2,
       "version_minor": 0
      },
      "text/plain": [
       "Generating 1929 split: 0 examples [00:00, ? examples/s]"
      ]
     },
     "metadata": {},
     "output_type": "display_data"
    },
    {
     "name": "stdout",
     "output_type": "stream",
     "text": [
      "Loading associated\n",
      "Dataset american_stories downloaded and prepared to /Users/idogmv2020/.cache/huggingface/datasets/dell-research-harvard___american_stories/subset_years-eecb50c0f4d23bc0/0.1.0/75a916c5166c4f1fe51a57e0f5074cc72e19157c2bb064a2dc3e6362e19892fb. Subsequent calls will reuse this data.\n"
     ]
    },
    {
     "data": {
      "application/vnd.jupyter.widget-view+json": {
       "model_id": "683e326263754cf8bf2039699e8ee749",
       "version_major": 2,
       "version_minor": 0
      },
      "text/plain": [
       "  0%|          | 0/1 [00:00<?, ?it/s]"
      ]
     },
     "metadata": {},
     "output_type": "display_data"
    },
    {
     "name": "stdout",
     "output_type": "stream",
     "text": [
      "\"The building up Of goodwill as q sure foundation for peace on earth was the theme of the Christmas Civ ing party held on Monday evening for the junior and intermediate de- partments of the Sunday church school Of the First Church of Christ. The party was held in the newly-ra- decorated dining room of the chapel, which was gay with holiday decora- tions which were specially arranged by the P'eng Yu club for the Christ mas festivities.\n",
      "\n",
      " After a program Of Christmas carols with the Christmas story, stereopticon slides were shown of various groups and scenes in the Philippine Islands, to which the Friendship treasure chests are to oe sent. Goodwill gifts were brouGht by the members Of tine two depart. ments, and were arranged in an at- tractive display in the p0rlor, where all had an opportunity to see them. Motion pictures were then shown of the reception of the friendship school hass which were sent 10 the school children of Mexico in l92S--l project in which these two depart ments sha\n"
     ]
    }
   ],
   "source": [
    "# Decide what year you want between 1810 and 1963\n",
    "\n",
    "my_year = \"1929\"\n",
    "\n",
    "# Decide how many articles you want to work with (keep this small - it's slow)\n",
    "num_articles = 10\n",
    "\n",
    "#  Download data for your choice of year (1810 to 1963)\n",
    "dataset = load_dataset(\"dell-research-harvard/AmericanStories\",\n",
    "    \"subset_years\",\n",
    "    year_list=[my_year]\n",
    ")\n",
    "\n",
    "# Get the first n articles from that year\n",
    "# instantiate the counter\n",
    "i=0\n",
    "# instantiate the string\n",
    "my_articles = ''\n",
    "# loop through each article for that year\n",
    "for article in dataset[my_year]:\n",
    "    #the article is a dictionary, \n",
    "    #we're getting the text of the article by accessing the key, \"article\"\n",
    "    my_articles += article.get('article')\n",
    "    #add one to our counter\n",
    "    i+=1\n",
    "    #if the counter is greater than num_articles-1, stop looping\n",
    "    if i>(num_articles-1): break\n",
    "    \n",
    "#validate that it is what we expect by checking on first 100 characters\n",
    "print(my_articles[:1000])"
   ]
  },
  {
   "cell_type": "code",
   "execution_count": 4,
   "id": "4a38649e",
   "metadata": {},
   "outputs": [
    {
     "name": "stderr",
     "output_type": "stream",
     "text": [
      "Found cached dataset american_stories (/Users/idogmv2020/.cache/huggingface/datasets/dell-research-harvard___american_stories/subset_years-eecb50c0f4d23bc0/0.1.0/75a916c5166c4f1fe51a57e0f5074cc72e19157c2bb064a2dc3e6362e19892fb)\n"
     ]
    },
    {
     "data": {
      "application/vnd.jupyter.widget-view+json": {
       "model_id": "1e0e1fb9a6c144f598af0bf7714611c2",
       "version_major": 2,
       "version_minor": 0
      },
      "text/plain": [
       "  0%|          | 0/1 [00:00<?, ?it/s]"
      ]
     },
     "metadata": {},
     "output_type": "display_data"
    },
    {
     "name": "stdout",
     "output_type": "stream",
     "text": [
      "3\"The building up Of goodwill as q sure foundation for peace on earth was the theme of the Christmas Civ ing party held on Monday evening for the junior and intermediate de- partments of the Sunday church school Of the First Church of Christ. The party was held in the newly-ra- decorated dining room of the chapel, which was gay with holiday decora- tions which were specially arranged by the P'eng Yu club for the Christ mas festivities.\n",
      "\n",
      " After a program Of Christmas carols with the Christmas story, stereopticon slides were shown of various groups and scenes in the Philippine Islands, to which the Friendship treasure chests are to oe sent. Goodwill gifts were brouGht by the members Of tine two depart. ments, and were arranged in an at- tractive display in the p0rlor, where all had an opportunity to see them. Motion pictures were then shown of the reception of the friendship school hass which were sent 10 the school children of Mexico in l92S--l project in which these two depart ments sh\n"
     ]
    }
   ],
   "source": [
    "# Decide what year you want between 1810 and 1963\n",
    "\n",
    "my_year = \"1929\"\n",
    "\n",
    "# Decide how many articles you want to work with (keep this small - it's slow)\n",
    "num_articles = 10\n",
    "\n",
    "#  Download data for your choice of year (1810 to 1963)\n",
    "dataset = load_dataset(\"dell-research-harvard/AmericanStories\",\n",
    "    \"subset_years\",\n",
    "    year_list=[my_year]\n",
    ")\n",
    "\n",
    "# Get the first n articles from that year\n",
    "# instantiate the counter\n",
    "i=3\n",
    "# instantiate the string\n",
    "my_articles = '3'\n",
    "# loop through each article for that year\n",
    "for article in dataset[my_year]:\n",
    "    #the article is a dictionary, \n",
    "    #we're getting the text of the article by accessing the key, \"article\"\n",
    "    my_articles += article.get('article')\n",
    "    #add one to our counter\n",
    "    i+=1\n",
    "    #if the counter is greater than num_articles-1, stop looping\n",
    "    if i>(num_articles-1): break\n",
    "    \n",
    "#validate that it is what we expect by checking on first 100 characters\n",
    "print(my_articles[:1000])"
   ]
  },
  {
   "cell_type": "code",
   "execution_count": 5,
   "id": "73e9f388",
   "metadata": {},
   "outputs": [
    {
     "name": "stdout",
     "output_type": "stream",
     "text": [
      "Downloading and preparing dataset american_stories/subset_years to /Users/idogmv2020/.cache/huggingface/datasets/dell-research-harvard___american_stories/subset_years-7b1171f4e7c0f383/0.1.0/75a916c5166c4f1fe51a57e0f5074cc72e19157c2bb064a2dc3e6362e19892fb...\n",
      "Only taking a subset of years. Change name to 'all_years' to use all years in the dataset.\n",
      "{'1960': 'https://huggingface.co/datasets/dell-research-harvard/AmericanStories/resolve/main/faro_1960.tar.gz'}\n"
     ]
    },
    {
     "data": {
      "application/vnd.jupyter.widget-view+json": {
       "model_id": "f12510c599214bf68b1c479a8c81b58e",
       "version_major": 2,
       "version_minor": 0
      },
      "text/plain": [
       "Downloading data files:   0%|          | 0/1 [00:00<?, ?it/s]"
      ]
     },
     "metadata": {},
     "output_type": "display_data"
    },
    {
     "data": {
      "application/vnd.jupyter.widget-view+json": {
       "model_id": "6e9a61280bc14a56adb0cdb42fd20bcf",
       "version_major": 2,
       "version_minor": 0
      },
      "text/plain": [
       "Downloading data:   0%|          | 0.00/256M [00:00<?, ?B/s]"
      ]
     },
     "metadata": {},
     "output_type": "display_data"
    },
    {
     "data": {
      "application/vnd.jupyter.widget-view+json": {
       "model_id": "85a39f6b4e4d463290f3b11aceb3da70",
       "version_major": 2,
       "version_minor": 0
      },
      "text/plain": [
       "Generating 1960 split: 0 examples [00:00, ? examples/s]"
      ]
     },
     "metadata": {},
     "output_type": "display_data"
    },
    {
     "name": "stdout",
     "output_type": "stream",
     "text": [
      "Loading associated\n",
      "Dataset american_stories downloaded and prepared to /Users/idogmv2020/.cache/huggingface/datasets/dell-research-harvard___american_stories/subset_years-7b1171f4e7c0f383/0.1.0/75a916c5166c4f1fe51a57e0f5074cc72e19157c2bb064a2dc3e6362e19892fb. Subsequent calls will reuse this data.\n"
     ]
    },
    {
     "data": {
      "application/vnd.jupyter.widget-view+json": {
       "model_id": "00bbebcf2a6f493d854af9f0509c3a6e",
       "version_major": 2,
       "version_minor": 0
      },
      "text/plain": [
       "  0%|          | 0/1 [00:00<?, ?it/s]"
      ]
     },
     "metadata": {},
     "output_type": "display_data"
    },
    {
     "name": "stdout",
     "output_type": "stream",
     "text": [
      "1SAN FRANCISCO. Nov. 10\n",
      "(AP).-Alvin Dark made his\n",
      "first decisions yesterday as\n",
      "manager Of the San Francisco\n",
      "Giants. He hired two former\n",
      "teammates as coaches.\n",
      "\n",
      "\n",
      "Dark was signed last week,\n",
      "Yesterday he selected Larry\n",
      "Jansen and Whitley Lockman\n",
      "and retained Yves Westrum and\n",
      "Salty Parker for his coaching\n",
      "staff. Bill Posedel was re-\n",
      "leased to make way for Jansen\n",
      "as boss Of the bullpen.\n",
      "\n",
      "\n",
      "Dark. Jansen and Lockman-\n",
      "stars when they played for the\n",
      "Giants have a lot in common\n",
      "They have regulations al\n",
      "gentlemen, quiet craftsmen whc\n",
      "let their feats on the field speal\n",
      "for them.\n",
      "\n",
      "\n",
      "Dark hit 1922 in his rookie\n",
      "season with the Boston Brave.\n",
      "and was named rookie of thu\n",
      "year l948 by the major league\n",
      "baseball writer's.\n",
      "\n",
      "\n",
      "AS lean. smiling youngstel\n",
      "of 18, Lockman stepped intC\n",
      "Mel Otis No. 3 batting spot IL\n",
      "midsummer Of 1945 anchead last Saturday when Mon\n",
      "treal lost in q cup playoff with\n",
      "out throwing a pass In the last\n",
      "half. Moss said it was because\n",
      "of Etcheverry's sore arm. The\n",
      "player said his arm was SOUN\n"
     ]
    }
   ],
   "source": [
    "# Decide what year you want between 1810 and 1963\n",
    "\n",
    "my_year = \"1960\"\n",
    "\n",
    "# Decide how many articles you want to work with (keep this small - it's slow)\n",
    "num_articles = 10\n",
    "\n",
    "#  Download data for your choice of year (1810 to 1963)\n",
    "dataset = load_dataset(\"dell-research-harvard/AmericanStories\",\n",
    "    \"subset_years\",\n",
    "    year_list=[my_year]\n",
    ")\n",
    "\n",
    "# Get the first n articles from that year\n",
    "# instantiate the counter\n",
    "i=1\n",
    "# instantiate the string\n",
    "my_articles = '1'\n",
    "# loop through each article for that year\n",
    "for article in dataset[my_year]:\n",
    "    #the article is a dictionary, \n",
    "    #we're getting the text of the article by accessing the key, \"article\"\n",
    "    my_articles += article.get('article')\n",
    "    #add one to our counter\n",
    "    i+=1\n",
    "    #if the counter is greater than num_articles-1, stop looping\n",
    "    if i>(num_articles-1): break\n",
    "    \n",
    "#validate that it is what we expect by checking on first 100 characters\n",
    "print(my_articles[:1000])"
   ]
  },
  {
   "cell_type": "code",
   "execution_count": 6,
   "id": "097c079e",
   "metadata": {},
   "outputs": [
    {
     "name": "stderr",
     "output_type": "stream",
     "text": [
      "Found cached dataset american_stories (/Users/idogmv2020/.cache/huggingface/datasets/dell-research-harvard___american_stories/subset_years-7b1171f4e7c0f383/0.1.0/75a916c5166c4f1fe51a57e0f5074cc72e19157c2bb064a2dc3e6362e19892fb)\n"
     ]
    },
    {
     "data": {
      "application/vnd.jupyter.widget-view+json": {
       "model_id": "28ffec241591499a9e163dd7c67e4a7b",
       "version_major": 2,
       "version_minor": 0
      },
      "text/plain": [
       "  0%|          | 0/1 [00:00<?, ?it/s]"
      ]
     },
     "metadata": {},
     "output_type": "display_data"
    },
    {
     "name": "stdout",
     "output_type": "stream",
     "text": [
      "2SAN FRANCISCO. Nov. 10\n",
      "(AP).-Alvin Dark made his\n",
      "first decisions yesterday as\n",
      "manager Of the San Francisco\n",
      "Giants. He hired two former\n",
      "teammates as coaches.\n",
      "\n",
      "\n",
      "Dark was signed last week,\n",
      "Yesterday he selected Larry\n",
      "Jansen and Whitley Lockman\n",
      "and retained Yves Westrum and\n",
      "Salty Parker for his coaching\n",
      "staff. Bill Posedel was re-\n",
      "leased to make way for Jansen\n",
      "as boss Of the bullpen.\n",
      "\n",
      "\n",
      "Dark. Jansen and Lockman-\n",
      "stars when they played for the\n",
      "Giants have a lot in common\n",
      "They have regulations al\n",
      "gentlemen, quiet craftsmen whc\n",
      "let their feats on the field speal\n",
      "for them.\n",
      "\n",
      "\n",
      "Dark hit 1922 in his rookie\n",
      "season with the Boston Brave.\n",
      "and was named rookie of thu\n",
      "year l948 by the major league\n",
      "baseball writer's.\n",
      "\n",
      "\n",
      "AS lean. smiling youngstel\n",
      "of 18, Lockman stepped intC\n",
      "Mel Otis No. 3 batting spot IL\n",
      "midsummer Of 1945 anchead last Saturday when Mon\n",
      "treal lost in q cup playoff with\n",
      "out throwing a pass In the last\n",
      "half. Moss said it was because\n",
      "of Etcheverry's sore arm. The\n",
      "player said his arm was SOUN\n"
     ]
    }
   ],
   "source": [
    "# Decide what year you want between 1810 and 1963\n",
    "\n",
    "my_year = \"1960\"\n",
    "\n",
    "# Decide how many articles you want to work with (keep this small - it's slow)\n",
    "num_articles = 10\n",
    "\n",
    "#  Download data for your choice of year (1810 to 1963)\n",
    "dataset = load_dataset(\"dell-research-harvard/AmericanStories\",\n",
    "    \"subset_years\",\n",
    "    year_list=[my_year]\n",
    ")\n",
    "\n",
    "# Get the first n articles from that year\n",
    "# instantiate the counter\n",
    "i=0\n",
    "# instantiate the string\n",
    "my_articles = '2'\n",
    "# loop through each article for that year\n",
    "for article in dataset[my_year]:\n",
    "    #the article is a dictionary, \n",
    "    #we're getting the text of the article by accessing the key, \"article\"\n",
    "    my_articles += article.get('article')\n",
    "    #add one to our counter\n",
    "    i+=1\n",
    "    #if the counter is greater than num_articles-1, stop looping\n",
    "    if i>(num_articles-1): break\n",
    "    \n",
    "#validate that it is what we expect by checking on first 100 characters\n",
    "print(my_articles[:1000])"
   ]
  },
  {
   "cell_type": "code",
   "execution_count": 9,
   "id": "b18f43c8",
   "metadata": {},
   "outputs": [
    {
     "name": "stderr",
     "output_type": "stream",
     "text": [
      "Found cached dataset american_stories (/Users/idogmv2020/.cache/huggingface/datasets/dell-research-harvard___american_stories/subset_years-7b1171f4e7c0f383/0.1.0/75a916c5166c4f1fe51a57e0f5074cc72e19157c2bb064a2dc3e6362e19892fb)\n"
     ]
    },
    {
     "data": {
      "application/vnd.jupyter.widget-view+json": {
       "model_id": "b3a60e4c071143e19da5ac61e7dc0fc6",
       "version_major": 2,
       "version_minor": 0
      },
      "text/plain": [
       "  0%|          | 0/1 [00:00<?, ?it/s]"
      ]
     },
     "metadata": {},
     "output_type": "display_data"
    },
    {
     "name": "stdout",
     "output_type": "stream",
     "text": [
      "SAN FRANCISCO. Nov. 10\n",
      "(AP).-Alvin Dark made his\n",
      "first decisions yesterday as\n",
      "manager Of the San Francisco\n",
      "Giants. He hired two former\n",
      "teammates as coaches.\n",
      "\n",
      "\n",
      "Dark was signed last week,\n",
      "Yesterday he selected Larry\n",
      "Jansen and Whitley Lockman\n",
      "and retained Yves Westrum and\n",
      "Salty Parker for his coaching\n",
      "staff. Bill Posedel was re-\n",
      "leased to make way for Jansen\n",
      "as boss Of the bullpen.\n",
      "\n",
      "\n",
      "Dark. Jansen and Lockman-\n",
      "stars when they played for the\n",
      "Giants have a lot in common\n",
      "They have regulations al\n",
      "gentlemen, quiet craftsmen whc\n",
      "let their feats on the field speal\n",
      "for them.\n",
      "\n",
      "\n",
      "Dark hit 1922 in his rookie\n",
      "season with the Boston Brave.\n",
      "and was named rookie of thu\n",
      "year l948 by the major league\n",
      "baseball writer's.\n",
      "\n",
      "\n",
      "AS lean. smiling youngstel\n",
      "of 18, Lockman stepped intC\n",
      "Mel Otis No. 3 batting spot IL\n",
      "midsummer Of 1945 anchead last Saturday when Mon\n",
      "treal lost in q cup playoff with\n",
      "out throwing a pass In the last\n",
      "half. Moss said it was because\n",
      "of Etcheverry's sore arm. The\n",
      "player said his arm was SOUND.\n",
      "\n",
      "\n",
      "Player Of the year In 1854,\n",
      "and a several-time all-star\n",
      "choice. Etcheverry has collected\n",
      "every Canadian football honor\n",
      "but one-that of directing a\n",
      "national championship club. He\n",
      "led Montreal into the national\n",
      "playoff, the Grey Cup game,\n",
      "three years in a row, l954-55-56,\n",
      "but each time Montreal lost 10\n",
      "Edmonton.There's just no place like\n",
      "home as far as the Chicago\n",
      "Black Hawks are concerned.\n",
      "\n",
      "\n",
      "The Black Hawks moved into\n",
      "first place in the National Hook\n",
      "ey League last night with a 20\n",
      "victory over the Toronto Maple\n",
      "Leafs in Chicago. The Detroit\n",
      "Red Wings scored three times\n",
      "in the last period to edge the\n",
      "Rangers, AS. in New York in\n",
      "the only other game played.\n",
      "\n",
      "\n",
      "The hustling Black Hawks re-\n",
      "manned unbeaten on Chicago\n",
      "ice this season as Goalie Glenn\n",
      "Hall fashioned his second shut\n",
      "out. In seven games at home\n",
      "Chicago has won five time and\n",
      "tied two. On the road the Black\n",
      "Hawks are 2-4-2.\n",
      "\n",
      "\n",
      "The Red Wings climbed into\n",
      "a tie for second place with the\n",
      "idle Montreal Canadiens, who\n",
      "dropped out Of u\n"
     ]
    }
   ],
   "source": [
    "# Decide what year you want between 1810 and 1963\n",
    "\n",
    "my_year = \"1960\"\n",
    "\n",
    "# Decide how many articles you want to work with (keep this small - it's slow)\n",
    "num_articles = 10\n",
    "\n",
    "#  Download data for your choice of year (1810 to 1963)\n",
    "dataset = load_dataset(\"dell-research-harvard/AmericanStories\",\n",
    "    \"subset_years\",\n",
    "    year_list=[my_year]\n",
    ")\n",
    "\n",
    "# Get the first n articles from that year\n",
    "# instantiate the counter\n",
    "i=0\n",
    "# instantiate the string\n",
    "my_articles = ''\n",
    "# loop through each article for that year\n",
    "for article in dataset[my_year]:\n",
    "    #the article is a dictionary, \n",
    "    #we're getting the text of the article by accessing the key, \"article\"\n",
    "    my_articles += article.get('article')\n",
    "    #add one to our counter\n",
    "    i+=1\n",
    "    #if the counter is greater than num_articles-1, stop looping\n",
    "    if i>(num_articles-1): break\n",
    "    \n",
    "#validate that it is what we expect by checking on first 100 characters\n",
    "print(my_articles[:2000])"
   ]
  },
  {
   "cell_type": "code",
   "execution_count": 10,
   "id": "e9809719",
   "metadata": {},
   "outputs": [
    {
     "data": {
      "text/plain": [
       "\"SAN FRANCISCO. Nov. 10 (AP).-Alvin Dark made his first decisions yesterday as manager Of the San Francisco Giants. He hired two former teammates as coaches.   Dark was signed last week, Yesterday he selected Larry Jansen and Whitley Lockman and retained Yves Westrum and Salty Parker for his coaching staff. Bill Posedel was re- leased to make way for Jansen as boss Of the bullpen.   Dark. Jansen and Lockman- stars when they played for the Giants have a lot in common They have regulations al gentlemen, quiet craftsmen whc let their feats on the field speal for them.   Dark hit 1922 in his rookie season with the Boston Brave. and was named rookie of thu year l948 by the major league baseball writer's.   AS lean. smiling youngstel of 18, Lockman stepped intC Mel Otis No. 3 batting spot IL midsummer Of 1945 anchead last Saturday when Mon treal lost in q cup playoff with out throwing a pass In the last half. Moss said it was because of Etcheverry's sore arm. The player said his arm was SOUND.   Player Of the year In 1854, and a several-time all-star choice. Etcheverry has collected every Canadian football honor but one-that of directing a national championship club. He led Montreal into the national playoff, the Grey Cup game, three years in a row, l954-55-56, but each time Montreal lost 10 Edmonton.There's just no place like home as far as the Chicago Black Hawks are concerned.   The Black Hawks moved into first place in the National Hook ey League last night with a 20 victory over the Toronto Maple Leafs in Chicago. The Detroit Red Wings scored three times in the last period to edge the Rangers, AS. in New York in the only other game played.   The hustling Black Hawks re- manned unbeaten on Chicago ice this season as Goalie Glenn Hall fashioned his second shut out. In seven games at home Chicago has won five time and tied two. On the road the Black Hawks are 2-4-2.   The Red Wings climbed into a tie for second place with the idle Montreal Canadiens, who dropped out Of u\""
      ]
     },
     "execution_count": 10,
     "metadata": {},
     "output_type": "execute_result"
    }
   ],
   "source": [
    "#remove new line and other formatting characters\n",
    "for char in [\"\\n\", \"\\r\", \"\\d\", \"\\t\"]:\n",
    "    my_articles = my_articles.replace(char, \" \")\n",
    "my_articles[:2000]"
   ]
  },
  {
   "cell_type": "code",
   "execution_count": 11,
   "id": "9ba072c4",
   "metadata": {},
   "outputs": [
    {
     "name": "stdout",
     "output_type": "stream",
     "text": [
      "CPU times: user 403 µs, sys: 2 µs, total: 405 µs\n",
      "Wall time: 416 µs\n"
     ]
    },
    {
     "data": {
      "text/plain": [
       "['SAN',\n",
       " 'FRANCISCO.',\n",
       " 'Nov.',\n",
       " '10',\n",
       " '(AP).-Alvin',\n",
       " 'Dark',\n",
       " 'made',\n",
       " 'his',\n",
       " 'first',\n",
       " 'decisions',\n",
       " 'yesterday',\n",
       " 'as',\n",
       " 'manager',\n",
       " 'Of',\n",
       " 'the',\n",
       " 'San',\n",
       " 'Francisco',\n",
       " 'Giants.',\n",
       " 'He',\n",
       " 'hired']"
      ]
     },
     "execution_count": 11,
     "metadata": {},
     "output_type": "execute_result"
    }
   ],
   "source": [
    "%%time\n",
    "#this is a magic function to determine how long a cell takes to run. \n",
    "#It MUST be the first thing in a cell\n",
    "\n",
    "#split the whole string on spaces. This returns a list\n",
    "whitespace_tokens = my_articles.split(' ')\n",
    "\n",
    "#check the list\n",
    "whitespace_tokens[:20]"
   ]
  },
  {
   "cell_type": "code",
   "execution_count": 12,
   "id": "37c16f4d",
   "metadata": {},
   "outputs": [
    {
     "name": "stdout",
     "output_type": "stream",
     "text": [
      "CPU times: user 442 µs, sys: 1 µs, total: 443 µs\n",
      "Wall time: 451 µs\n"
     ]
    },
    {
     "data": {
      "text/plain": [
       "['SAN',\n",
       " 'FRANCISCO.',\n",
       " 'Nov.',\n",
       " '10',\n",
       " '(AP).-Alvin',\n",
       " 'Dark',\n",
       " 'made',\n",
       " 'his',\n",
       " 'first',\n",
       " 'decisions',\n",
       " 'yesterday',\n",
       " 'as',\n",
       " 'manager',\n",
       " 'Of',\n",
       " 'the',\n",
       " 'San',\n",
       " 'Francisco',\n",
       " 'Giants.',\n",
       " 'He',\n",
       " 'hired',\n",
       " 'two',\n",
       " 'former',\n",
       " 'teammates',\n",
       " 'as',\n",
       " 'coaches.',\n",
       " '',\n",
       " '',\n",
       " 'Dark',\n",
       " 'was',\n",
       " 'signed',\n",
       " 'last',\n",
       " 'week,',\n",
       " 'Yesterday',\n",
       " 'he',\n",
       " 'selected',\n",
       " 'Larry',\n",
       " 'Jansen',\n",
       " 'and',\n",
       " 'Whitley',\n",
       " 'Lockman']"
      ]
     },
     "execution_count": 12,
     "metadata": {},
     "output_type": "execute_result"
    }
   ],
   "source": [
    "%%time\n",
    "#this is a magic function to determine how long a cell takes to run. \n",
    "#It MUST be the first thing in a cell\n",
    "\n",
    "#split the whole string on spaces. This returns a list\n",
    "whitespace_tokens = my_articles.split(' ')\n",
    "\n",
    "#check the list\n",
    "whitespace_tokens[:40]"
   ]
  },
  {
   "cell_type": "code",
   "execution_count": 28,
   "id": "6691b32e",
   "metadata": {},
   "outputs": [
    {
     "name": "stdout",
     "output_type": "stream",
     "text": [
      "CPU times: user 19.2 ms, sys: 1.11 ms, total: 20.3 ms\n",
      "Wall time: 20 ms\n"
     ]
    }
   ],
   "source": [
    "%%time\n",
    "whitespace_tokens = my_articles.split(' ')\n",
    "\n",
    "# calling the Encoder algorithm\n",
    "# we've specified 100 token vocab and 95% to be tokenized\n",
    "# the other 5% is transformed into UNK\n",
    "encoder = Encoder(100, pct_bpe=0.95)\n",
    "encoder.fit(whitespace_tokens)"
   ]
  },
  {
   "cell_type": "code",
   "execution_count": 29,
   "id": "6b44e89a",
   "metadata": {},
   "outputs": [
    {
     "name": "stdout",
     "output_type": "stream",
     "text": [
      "san francisco . nov . 1__unk __unk ap __unk__unk- alvin dark made his first decisions yesterday as manager of the san francisco giants . he hired two former teammates as coaches . dark was signed last week , yesterday he selected larry __unkansen and whitley lockman and retained yves westrum and salty parker for his coaching staff . bill posedel was re - leased to make way for __unkansen as boss of the bullpen . dark . __unkansen and lockman - stars when they played for the giants have a lot in common they have regulations al gentlemen , __unkuiet craftsmen whc let their feats on the field speal for them . dark hit 1__unk__unk__unk in his rookie season with the boston brave . and was named rookie of thu year l__unk__unk__unk by the ma__unkor league baseball writer ' s . as lean . smiling youngstel of 1__unk , lockman stepped intc mel otis no . __unk batting spot il midsummer of 1__unk__unk__unk anchead last saturday when mon treal lost in __unk cup playoff with out throwing a pass in the last half . moss said it was because of etcheverry ' s sore arm . the player said his arm was sound . player of the year in 1__unk__unk__unk , and a several - time all - star choice . etcheverry has collected every canadian football honor but one - that of directing a national championship club . he led montreal into the national playoff , the grey cup game , three years in a row , l__unk__unk__unk - __unk__unk - __unk__unk , but each time montreal lost 1__unk edmonton . there ' s __unkust no place like home as far as the chicago black hawks are concerned . the black hawks moved into first place in the national hook ey league last night with a __unk__unk victory over the toronto maple leafs in chicago . the detroit red wings scored three times in the last period to edge the rangers , as . in new york in the only other game played . the hustling black hawks re - manned unbeaten on chicago ice this season as goalie glenn hall fashioned his second shut out . in seven games at home chicago has won five time and tied two . on the road the black hawks are __unk - __unk - __unk . the red wings climbed into a tie for second place with the idle montreal canadiens , who dropped out of undisputed pos session of first place . chicago leads with 1__unk points . detroit and montreal have ii each . wilt chamberlain keeps on scoring baskets and the phila - delphia warriors keep on win ming games . that ' s been the theme of the national basket ball association season so far . chamberlain amassed __unk__unk points last night as the streak ing warriors defeated the los angeles lakers . l__unk__unk - 1l__unk , for their seventh consecutive vic tory . the philadelphia - los angeles game was the opener of a doubleheader at st . louis . in the second game , the hawks posted their fifth straight triumph in beating the detroit pistons , l__unk__unk - 1__unk__unk . the prolific chamberlain ' s scoring output was the highest individual effort of the season wilt also had the season __unk previous high of a . chamberlain ' s appoint har - vest was not the best of his pre - career . the __unk - foot - 1 chamber . lain , the defending scoring champion , twice clicked for __unk1 points last season and he seem . to be a good bet to crack the e__unkisting individual game mari of __unk__unk points . held by elgir baylor of the lakers . baylor kept los angeles ir contention with __unk__unk points , in . icluding l__unk - for - 1__unk from the free throw line . chamberlain , or the other hand , sank only free throws in is attempts , but connected for __unk__unk field goals . los angeles managed to sta __unk with the warriors most of tn , way and the teams entered the final period tied . philadelphia finally sealed the verdict in tht final three minutes with __unk 1__unk __unk tear . bob pettit ' s __unk__unk points spear . headed the hawks . who wer ' without the services of clyd ' lovellette , sidelined with __unk bruised hip . st . louis out scored the pistons , 1__unk__unk__unk , in tn , third period to open up al l__unk - point lead before detroi closed the gap in the fina __unkuarter . cliff hagan contributed __unk points to the hawks attack five piston players hit doubl figures , headed by gene shue ' __unk__unk . raped a home run the first time he faced a ma__unkor league pitcher . __unkansen ' s big league debut was one of the most heart warming ever . 1t took the big highlander seven years to get his first crack at the ma__unkors . when 1t finally came , after a __unk__unk - __unk season with san francisco of the pacific coast league , __unkansen ran into dismal luck . pitching against cleveland in a spring e__unkhibition game , __unkan sen was struck by a line drive hit by bob feller and suffered a fractured __unkaw . larry missed the first si__unk weeks of the l__unk__unk__unk season . he finally got his chance on may __unk__unk , pitched and won his first giant game and went on to a __unkl - __unk record , best in the ma__unkor leagues that season . dark , lockman , __unkansen and westrum were all key figures that october day in 1__unk__unk1 when bobby thomson ' s home run beat the brooklyn dodgers ir a national league playof and gave the giants their first pennant in ia years . e__unkually as important as all the other factors of the bowling motion in a good delivery is the follow - through with the hand and arm . after the ball leaves the hand on every shot the arm which has been perfectly straight throughout the entire backswing will now bend slightly at the elbow into the follow - through as 1t continues straight out in front of the body and on up to shoul - der level . never pull the arm to your left side or angle it of to the right . always stretch 1t out in front of you as though you were reaching for the target . the right leg , e__unktended swings slightly around behind the left and the left arm as sumes a comfortable position for perfect body balance . a good follow - through will direct the ball to the spot you have selected and enable the ball to roll more accurately . if the follow - through is abrupt or short , you will tend to pull the ball or it may cause you tc drop it sooner than you should do not snap or __unkerk ball al point of delivery . this tends tc place an e__unkcessive amount oi spin on the ball , causing it tt curve undesirably . __unk duckpin bowling councidnewport brings you all these famous chry__unkler benefits room . chysler seats are five feet wide , enough for adults to travel in unwrinkied ease . unibody design permits more efficient use of interior space . door openings are wide for easy entry and e__unkit . you rela__unk as you ride . montreal , nov . 1__unk __unk ap __unk__unk- canadian pro football fans still were shaking their heads in dis belief today over the trade send ing montreal ' s sam etcheverry and hal patterson to the hamilton tiger - cats for two players . ofiicials of the toronto argonauts and ottawa rough riders . the other teams in the big four league . e__unkpressed ama__unkement at the deal , in which the alouettes ac__unkuired __unkuarterback bernie faloney . former maryland star . and de - fensive end ron pa__unkuette , a canadian . a comparable deal in united states pro football would be if the baltimore colts sent __unkuarterback __unkohn unitas and end ray berry to tailend club for a pair of regulars . etcheverry . a __unkuarterback who played his college ball at denver , and patterson , a kansas end , were believed to be at outs with perry , __unk__unk - year - old general manager and rookie coach of the alouettes . such comments as __unk are they cra__unky __unk__unk and what ' s really be - hind it __unk__unk were voiced by fans on learning of the swap . one critic commented __unk ii think the whole thing must result from a bet by moss and coach __unkim trimble of hamil - ton on the united states elec - tions - and moss lost __unk moss said he reali__unkes etche - very and patterson are great individual stars , but added the team record the last four years hadn ' t reflected their personal ability . we ' re picking a player who can run with the football __unk he said . i ' ve needed a defensive end . i can guarantee one thing __unk we ' ll have a better won lost record ne__unkt year . etcheverry ' s wife said he didn ' t get along we ' ll with moss patterson a few weeks age angrily walked out on a prac - tice . the reported row came to acontinued from page c - l with the children and doing __unk bit of hunting . said he was sorry to see casey stengel leave the yankees . but added that __unk as long as he had to go they couldn ' t have picked a better man than ralph houk __unk__unk following robinson in the voting were minnie ' minoso chicago . l__unkl __unk ron hansen baltimore , ito __unk al smith . chi . cago . __unk__unk __unk roy sewers , chicago so __unk earl battey , washington __unk1 __unk bill skowron . new york , __unk__unk and __unkim lemon , washington , sc nellie fo__unk . the chicago white so__unk second basemar who won 1__unk__unk__unk mvp honors polled only ii points this yeareastern division\n"
     ]
    }
   ],
   "source": [
    "#print(encoder.tokenize(my_articles))\n",
    "\n",
    "print(next(encoder.inverse_transform(encoder.transform([my_articles]))))"
   ]
  },
  {
   "cell_type": "code",
   "execution_count": null,
   "id": "b64a3fbd",
   "metadata": {},
   "outputs": [],
   "source": []
  }
 ],
 "metadata": {
  "kernelspec": {
   "display_name": "Python 3 (ipykernel)",
   "language": "python",
   "name": "python3"
  },
  "language_info": {
   "codemirror_mode": {
    "name": "ipython",
    "version": 3
   },
   "file_extension": ".py",
   "mimetype": "text/x-python",
   "name": "python",
   "nbconvert_exporter": "python",
   "pygments_lexer": "ipython3",
   "version": "3.10.9"
  }
 },
 "nbformat": 4,
 "nbformat_minor": 5
}
